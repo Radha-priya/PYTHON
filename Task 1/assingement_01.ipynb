{
 "cells": [
  {
   "cell_type": "code",
   "execution_count": 2,
   "id": "0b851df7",
   "metadata": {},
   "outputs": [
    {
     "name": "stdout",
     "output_type": "stream",
     "text": [
      " enter first name Radha\n",
      " enter last name krishna\n",
      "hello krishna Radha\n"
     ]
    }
   ],
   "source": [
    "#write a python program that accepts the user's frist and last name and print them in reverse order with a space between them\n",
    "firstname=input(\" enter first name \")\n",
    "lastname=input(\" enter last name \")\n",
    "print(\"hello \"+ lastname +\" \"+ firstname)\n"
   ]
  },
  {
   "cell_type": "code",
   "execution_count": 4,
   "id": "d868bdc1",
   "metadata": {},
   "outputs": [
    {
     "name": "stdout",
     "output_type": "stream",
     "text": [
      "enter the value of n 2\n",
      "246\n"
     ]
    }
   ],
   "source": [
    "#write a python program that accepts an integer(n) and computes the value of n+nn+nnn.\n",
    "num=int(input(\"enter the value of n \"))\n",
    "temp=str(num)\n",
    "temp1=temp+temp\n",
    "temp2=temp+temp+temp\n",
    "cal=num+int(temp1)+int(temp2)\n",
    "print(cal)"
   ]
  },
  {
   "cell_type": "code",
   "execution_count": 5,
   "id": "69aa0b1d",
   "metadata": {},
   "outputs": [
    {
     "name": "stdout",
     "output_type": "stream",
     "text": [
      "Name**Is**James\n"
     ]
    }
   ],
   "source": [
    "#diplay three string \"Name\" ,\"Is\" ,\"James\" as \"Name**Is**James\"\n",
    "print(\"Name\"+\"**\"+\"Is\"+\"**\"+\"James\")"
   ]
  },
  {
   "cell_type": "code",
   "execution_count": 12,
   "id": "3daceb13",
   "metadata": {},
   "outputs": [
    {
     "name": "stdout",
     "output_type": "stream",
     "text": [
      " enter the value of num 5\n",
      "5.00\n"
     ]
    }
   ],
   "source": [
    "#display float number with 2 decimal places using print()\n",
    "num=float(input(\" enter the value of num \"))\n",
    "print(\"%.2f\" % num)"
   ]
  },
  {
   "cell_type": "code",
   "execution_count": 14,
   "id": "646f12e6",
   "metadata": {},
   "outputs": [
    {
     "name": "stdout",
     "output_type": "stream",
     "text": [
      "stringRADHA KRISHNA KANT\n",
      "strings are RADHA KRISHNA KANT\n"
     ]
    }
   ],
   "source": [
    "#accept any three string from one input()call\n",
    "str1,str2,str3=input(\" string \").split()\n",
    "print(\"strings are\" ,str1  , str2 , str3)"
   ]
  }
 ],
 "metadata": {
  "kernelspec": {
   "display_name": "Python 3 (ipykernel)",
   "language": "python",
   "name": "python3"
  },
  "language_info": {
   "codemirror_mode": {
    "name": "ipython",
    "version": 3
   },
   "file_extension": ".py",
   "mimetype": "text/x-python",
   "name": "python",
   "nbconvert_exporter": "python",
   "pygments_lexer": "ipython3",
   "version": "3.11.2"
  }
 },
 "nbformat": 4,
 "nbformat_minor": 5
}
