{
 "cells": [
  {
   "cell_type": "code",
   "execution_count": 1,
   "id": "a44cafe1",
   "metadata": {},
   "outputs": [
    {
     "name": "stdout",
     "output_type": "stream",
     "text": [
      " enter the value of first number6\n",
      " enter second value8\n",
      "the hcf or gcd os two number is 2\n"
     ]
    }
   ],
   "source": [
    "# program to find gcd or hcf\n",
    "num1=int(input(\" enter the value of first number\"))\n",
    "num2=int(input(\" enter second value\"))\n",
    "if num2>num1:\n",
    "    mn=num1\n",
    "else:\n",
    "    mn=num2\n",
    "    \n",
    "for i in range(1,mn+1):\n",
    "    if num1%i==0 and num2%i==0:\n",
    "        hcf=i\n",
    "        \n",
    "print(\"the hcf or gcd os two number is\" ,hcf)"
   ]
  },
  {
   "cell_type": "code",
   "execution_count": 2,
   "id": "537172f5",
   "metadata": {},
   "outputs": [
    {
     "name": "stdout",
     "output_type": "stream",
     "text": [
      "125\n",
      "153\n",
      "216\n",
      "370\n",
      "371\n",
      "407\n"
     ]
    }
   ],
   "source": [
    "# find total no of armstrong number between 100 to 500\n",
    "for num in range(100,501):\n",
    "   \n",
    "\n",
    "   sum=0\n",
    "   temp=num\n",
    "   while temp>0:\n",
    "    digit=temp%10\n",
    "    sum+=digit**3\n",
    "    temp//=10\n",
    "    \n",
    "    if num==sum:\n",
    "        print(num)"
   ]
  },
  {
   "cell_type": "code",
   "execution_count": 3,
   "id": "10ce29a3",
   "metadata": {},
   "outputs": [
    {
     "name": "stdout",
     "output_type": "stream",
     "text": [
      "enter a number :89765\n",
      "total number of digit is 5\n"
     ]
    }
   ],
   "source": [
    "#program to find total number of digit\n",
    "num=int(input(\"enter a number :\"))\n",
    "temp=num\n",
    "count=0\n",
    "\n",
    "while temp!= 0:\n",
    "   temp=temp//10\n",
    "   count=count+1\n",
    "print(\"total number of digit is\" ,count)\n"
   ]
  },
  {
   "cell_type": "code",
   "execution_count": 5,
   "id": "3de3898a",
   "metadata": {},
   "outputs": [
    {
     "name": "stdout",
     "output_type": "stream",
     "text": [
      "guess a number1\n",
      "you won\n"
     ]
    }
   ],
   "source": [
    "#program to guess number between 1to 9\n",
    "import random \n",
    "\n",
    "random_no= random.randrange(0,10)\n",
    "guess_no=int(input(\"guess a number\"))\n",
    "if random_no==guess_no:\n",
    "    print(\"you won\")\n",
    "elif random_no>guess_no:\n",
    "    print(\"your guess is low\")\n",
    "else:\n",
    "    print(\"your guess is high\")"
   ]
  },
  {
   "cell_type": "code",
   "execution_count": 6,
   "id": "2a744588",
   "metadata": {},
   "outputs": [
    {
     "name": "stdout",
     "output_type": "stream",
     "text": [
      "50\n",
      "49\n",
      "48\n",
      "47\n",
      "46\n",
      "45\n",
      "44\n",
      "43\n",
      "42\n",
      "41\n",
      "40\n",
      "39\n",
      "38\n",
      "37\n",
      "36\n",
      "35\n",
      "34\n",
      "33\n",
      "32\n",
      "31\n",
      "30\n",
      "29\n",
      "28\n",
      "27\n",
      "26\n",
      "25\n",
      "24\n",
      "23\n",
      "22\n",
      "21\n",
      "20\n",
      "19\n",
      "18\n",
      "17\n",
      "16\n",
      "15\n",
      "14\n",
      "13\n",
      "12\n",
      "11\n",
      "10\n",
      "9\n",
      "8\n",
      "7\n",
      "6\n",
      "5\n",
      "4\n",
      "3\n",
      "2\n",
      "1\n"
     ]
    }
   ],
   "source": [
    "#program to print from 50 to 1\n",
    "for i in range(50,0,-1):\n",
    "    print(i)"
   ]
  },
  {
   "cell_type": "code",
   "execution_count": 5,
   "id": "d8965112",
   "metadata": {},
   "outputs": [
    {
     "name": "stdout",
     "output_type": "stream",
     "text": [
      "1\n",
      "2\n",
      "3 Fizz\n",
      "4\n",
      "5 Buzz\n",
      "6 Fizz\n",
      "7\n",
      "8\n",
      "9 Fizz\n",
      "10 Buzz\n",
      "11\n",
      "12 Fizz\n",
      "13\n",
      "14\n",
      "15 FizzBuzz\n",
      "16\n",
      "17\n",
      "18 Fizz\n",
      "19\n",
      "20 Buzz\n",
      "21 Fizz\n",
      "22\n",
      "23\n",
      "24 Fizz\n",
      "25 Buzz\n",
      "26\n",
      "27 Fizz\n",
      "28\n",
      "29\n",
      "30 FizzBuzz\n",
      "31\n",
      "32\n",
      "33 Fizz\n",
      "34\n",
      "35 Buzz\n",
      "36 Fizz\n",
      "37\n",
      "38\n",
      "39 Fizz\n",
      "40 Buzz\n",
      "41\n",
      "42 Fizz\n",
      "43\n",
      "44\n",
      "45 FizzBuzz\n",
      "46\n",
      "47\n",
      "48 Fizz\n",
      "49\n",
      "50 Buzz\n"
     ]
    }
   ],
   "source": [
    "#program that iterates the integers from 1 to 50.for multiples of three print\"fizz\" instead of the number and for multiples of\n",
    "#five print \"Buzz\".for numbers that are multiples of both three and five print \"FizzBuzz\"\n",
    "for i in range(1,51):\n",
    "  if(i%5==0 and i%3==0):\n",
    "     print(i , \"FizzBuzz\")\n",
    "     continue\n",
    "  if(i%3==0):\n",
    "    print(i , \"Fizz\")\n",
    "  elif (i%5==0):\n",
    "    print(i ,\"Buzz\")\n",
    "  else:\n",
    "    print(i)\n"
   ]
  },
  {
   "cell_type": "code",
   "execution_count": null,
   "id": "60f6a881",
   "metadata": {},
   "outputs": [],
   "source": []
  },
  {
   "cell_type": "code",
   "execution_count": null,
   "id": "a633c563",
   "metadata": {},
   "outputs": [],
   "source": []
  }
 ],
 "metadata": {
  "kernelspec": {
   "display_name": "Python 3 (ipykernel)",
   "language": "python",
   "name": "python3"
  },
  "language_info": {
   "codemirror_mode": {
    "name": "ipython",
    "version": 3
   },
   "file_extension": ".py",
   "mimetype": "text/x-python",
   "name": "python",
   "nbconvert_exporter": "python",
   "pygments_lexer": "ipython3",
   "version": "3.11.2"
  }
 },
 "nbformat": 4,
 "nbformat_minor": 5
}
