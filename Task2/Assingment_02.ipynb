{
 "cells": [
  {
   "cell_type": "code",
   "execution_count": 3,
   "id": "e6973f62",
   "metadata": {},
   "outputs": [
    {
     "name": "stdout",
     "output_type": "stream",
     "text": [
      " enter the value of num 18\n",
      "difference is 2 \n"
     ]
    }
   ],
   "source": [
    "#write a program to calculate the difference between a given number and 17.if the number is greater than 17,return twice the \n",
    "#absolute difference\n",
    "def diff(num):\n",
    "    if num>17:\n",
    "        return(num-17)*2\n",
    "    else:\n",
    "        return(17-num)\n",
    "num=int(input(\" enter the value of num \"))\n",
    "print(\"difference is %d \" %diff(num))"
   ]
  },
  {
   "cell_type": "code",
   "execution_count": 5,
   "id": "4703b860",
   "metadata": {},
   "outputs": [
    {
     "name": "stdout",
     "output_type": "stream",
     "text": [
      "enter year2020\n",
      "leap year\n"
     ]
    }
   ],
   "source": [
    "#write a python program to check if a year is leap or not.\n",
    "year=int(input(\"enter year\"))\n",
    "if year%100==0:\n",
    "    if year%400:\n",
    "        print(\"your favorite year is a leap:\")\n",
    "        \n",
    "    else:\n",
    "        print(\"not leap year\")\n",
    "        \n",
    "elif year%4==0:\n",
    "       print(\"leap year\")\n",
    "else:\n",
    "        print(\"not leap year\")"
   ]
  },
  {
   "cell_type": "code",
   "execution_count": 13,
   "id": "cd7dde15",
   "metadata": {},
   "outputs": [
    {
     "name": "stdout",
     "output_type": "stream",
     "text": [
      "enter a 5\n",
      "enter b 5\n",
      "enter c 5\n",
      "0\n"
     ]
    }
   ],
   "source": [
    "#write a python program to sum three given integers.however,if two values are equal ,the sum will be zero\n",
    "a=int(input(\"enter a \"))\n",
    "b=int(input(\"enter b \"))\n",
    "c=int(input(\"enter c \"))\n",
    "if a==b==c:\n",
    "    sum=0\n",
    "    print(sum)\n",
    "else:\n",
    "    sum=a+b+c\n",
    "    print(sum)"
   ]
  },
  {
   "cell_type": "code",
   "execution_count": 14,
   "id": "2fa9bd7c",
   "metadata": {},
   "outputs": [
    {
     "name": "stdout",
     "output_type": "stream",
     "text": [
      " enter month name March\n",
      "no of days=31 days\n"
     ]
    }
   ],
   "source": [
    "#write a python program to convert a month name to a number of days\n",
    "month=input(\" enter month name \")\n",
    "if month==\"January\":\n",
    "    print(\"no of days=31 days\")\n",
    "elif month==\"February\":\n",
    "    print(\"no of days=28 days\")\n",
    "elif month==\"March\":\n",
    "    print(\"no of days=31 days\")\n",
    "elif month==\"April\":\n",
    "    print(\"no of days=30 days\")\n",
    "elif month==\"May\":\n",
    "    print(\"no of days=31 days\")\n",
    "elif month==\"June\":\n",
    "    print(\"no of days=30 days\")\n",
    "elif month==\"July\":\n",
    "    print(\"no of days=31 days\")\n",
    "elif month==\"August\":\n",
    "    print(\"no of days=30 days\")\n",
    "elif month==\"Septmber\":\n",
    "    print(\"no of days=31 days\")\n",
    "elif month==\"October\":\n",
    "    print(\"no of days=30 days\")\n",
    "elif month==\"Novemeber\":\n",
    "    print(\"no of days=31 days\")\n",
    "elif month==\"Decemeber\":\n",
    "    print(\"no of days=30 days\")\n",
    "else:\n",
    "    print(\"enter valid month\")\n",
    "  \n",
    "\n"
   ]
  },
  {
   "cell_type": "code",
   "execution_count": 18,
   "id": "89402097",
   "metadata": {},
   "outputs": [
    {
     "name": "stdout",
     "output_type": "stream",
     "text": [
      "enter one side of triangle5\n",
      "enter second side of triangle6\n",
      "enter third side of triangle7\n",
      "triangle is scalene\n"
     ]
    }
   ],
   "source": [
    "#write a python program to check if a triangle is equilateral ,isosceles or scalene.\n",
    "a=int(input(\"enter one side of triangle\"))\n",
    "b=int(input(\"enter second side of triangle\"))\n",
    "c=int(input(\"enter third side of triangle\"))\n",
    "if a==b==c:\n",
    "    print(\"triangle is equiletral\")\n",
    "elif a==b or b==c or c==a:\n",
    "    print(\"triangle is isosceles\")\n",
    "else:\n",
    "    print(\"triangle is scalene\")"
   ]
  },
  {
   "cell_type": "code",
   "execution_count": null,
   "id": "3fe97a72",
   "metadata": {},
   "outputs": [],
   "source": []
  },
  {
   "cell_type": "code",
   "execution_count": null,
   "id": "e8c525dc",
   "metadata": {},
   "outputs": [],
   "source": []
  }
 ],
 "metadata": {
  "kernelspec": {
   "display_name": "Python 3 (ipykernel)",
   "language": "python",
   "name": "python3"
  },
  "language_info": {
   "codemirror_mode": {
    "name": "ipython",
    "version": 3
   },
   "file_extension": ".py",
   "mimetype": "text/x-python",
   "name": "python",
   "nbconvert_exporter": "python",
   "pygments_lexer": "ipython3",
   "version": "3.11.2"
  }
 },
 "nbformat": 4,
 "nbformat_minor": 5
}
