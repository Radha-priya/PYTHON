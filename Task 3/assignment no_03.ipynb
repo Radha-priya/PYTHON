{
 "cells": [
  {
   "cell_type": "code",
   "execution_count": null,
   "id": "5edfde41",
   "metadata": {},
   "outputs": [],
   "source": [
    "# get smallest number from the list\n",
    " l =[20 ,45,2,0,1,33]\n",
    " l.sort()\n",
    " print(l)\n",
    " print(\"smallest no in list is\" ,l[0])"
   ]
  },
  {
   "cell_type": "code",
   "execution_count": 8,
   "id": "2f9e9456",
   "metadata": {},
   "outputs": [
    {
     "name": "stdout",
     "output_type": "stream",
     "text": [
      "list is empty\n"
     ]
    }
   ],
   "source": [
    "#check if a list is empty or not\n",
    "l=[]\n",
    "if not l:\n",
    "    print(\"list is empty\")\n",
    "else:\n",
    "    print(\"list is filled\")"
   ]
  },
  {
   "cell_type": "code",
   "execution_count": 9,
   "id": "99337de0",
   "metadata": {},
   "outputs": [
    {
     "name": "stdout",
     "output_type": "stream",
     "text": [
      "[3, 5, 1, 0, 4, 3, 'Radha']\n",
      "[3, 5, 1, 0, 4, 3, 'Radha', [12, 89, 6, 'Krishna']]\n"
     ]
    }
   ],
   "source": [
    "#program to append a list to second list\n",
    "l=[3,5,1,0,4,3,\"Radha\"]\n",
    "print(l)\n",
    "l.append([12,89,6 ,\"Krishna\"])\n",
    "print(l)"
   ]
  },
  {
   "cell_type": "code",
   "execution_count": 10,
   "id": "f80ee43f",
   "metadata": {},
   "outputs": [
    {
     "name": "stdout",
     "output_type": "stream",
     "text": [
      "enter list 11 2 3 4 5 \n",
      "enter list 22 3 45 7 9\n",
      "common present\n"
     ]
    }
   ],
   "source": [
    "#takes two lists and returns true if they have at least one common memebr\n",
    "l1=[int(a) for a in input(\"enter list 1\").split()]\n",
    "l2=[int(b) for b in input(\"enter list 2\").split()]\n",
    "ans=False\n",
    "for a in l1:\n",
    "    for b in l2:\n",
    "        if a==b:\n",
    "            ans=True\n",
    "if ans==True:\n",
    "    print(\"common present\")\n",
    "else:\n",
    "    print(\"not preset\")"
   ]
  },
  {
   "cell_type": "code",
   "execution_count": 1,
   "id": "750a17aa",
   "metadata": {},
   "outputs": [
    {
     "name": "stdout",
     "output_type": "stream",
     "text": [
      "enter list1 2 3 4 5 6 7 8 \n",
      "['2', '3', '4', '7', '8']\n"
     ]
    }
   ],
   "source": [
    "#print a specified list after removing the 0th,4th and 5th elements\n",
    "l1=[a for a in input(\"enter list\").split()]\n",
    "l2=[0 ,4 , 5]\n",
    "l1=[element for(index,element) in enumerate(l1)if index not in l2]\n",
    "print(l1)"
   ]
  },
  {
   "cell_type": "code",
   "execution_count": 2,
   "id": "ca872a4d",
   "metadata": {},
   "outputs": [
    {
     "name": "stdout",
     "output_type": "stream",
     "text": [
      "Enter 10 int:\n",
      "1\n",
      "2\n",
      "3\n",
      "4\n",
      "5\n",
      "6\n",
      "7\n",
      "8\n",
      "9\n",
      "0\n",
      "[0, 9, 8, 7, 6, 5, 4, 3, 2, 1]\n"
     ]
    }
   ],
   "source": [
    "#take 10 integer inputs from the user and store them in a list.now,copy  all the elements in another list but in reverse order.\n",
    "li=[]\n",
    "li2=[]\n",
    "print(\"Enter 10 int:\")\n",
    "for i in range(0,10):\n",
    "    b=int(input())\n",
    "    li.append(b)\n",
    "li2=[li[-i]for i in range(1,len(li)+1)]\n",
    "print(li2)"
   ]
  },
  {
   "cell_type": "code",
   "execution_count": null,
   "id": "15972ce0",
   "metadata": {},
   "outputs": [],
   "source": []
  }
 ],
 "metadata": {
  "kernelspec": {
   "display_name": "Python 3 (ipykernel)",
   "language": "python",
   "name": "python3"
  },
  "language_info": {
   "codemirror_mode": {
    "name": "ipython",
    "version": 3
   },
   "file_extension": ".py",
   "mimetype": "text/x-python",
   "name": "python",
   "nbconvert_exporter": "python",
   "pygments_lexer": "ipython3",
   "version": "3.11.2"
  }
 },
 "nbformat": 4,
 "nbformat_minor": 5
}
